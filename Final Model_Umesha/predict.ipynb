{
 "cells": [
  {
   "cell_type": "markdown",
   "metadata": {},
   "source": [
    "# Prediction Model "
   ]
  },
  {
   "cell_type": "markdown",
   "metadata": {},
   "source": [
    "Import necessary libraries"
   ]
  },
  {
   "cell_type": "code",
   "execution_count": 7,
   "metadata": {},
   "outputs": [],
   "source": [
    "import pickle\n",
    "import pandas as pd"
   ]
  },
  {
   "cell_type": "markdown",
   "metadata": {},
   "source": [
    "Unpickling"
   ]
  },
  {
   "cell_type": "code",
   "execution_count": 8,
   "metadata": {},
   "outputs": [],
   "source": [
    "model = pd.read_pickle('7july_lr_model.pickle')"
   ]
  },
  {
   "cell_type": "markdown",
   "metadata": {},
   "source": [
    "Take inputs from Users"
   ]
  },
  {
   "cell_type": "code",
   "execution_count": 11,
   "metadata": {},
   "outputs": [
    {
     "name": "stdout",
     "output_type": "stream",
     "text": [
      "Enter Itinerary_Type_International [ 0 OR 1] : 0\n",
      "Enter Year  : 2019\n",
      "Enter Month [1 To 12] : 1\n",
      "Enter Day [1 To 30] : 1\n",
      "Enter Hour [1 To 23] : 0\n",
      "Enter Minute [1 To 59] : 0\n",
      "Enter Product_Type_Air[ 0 OR 1] : 1\n",
      "Enter Product_Type_Hotel[ 0 OR 1] : 1\n",
      "Enter Product_Type_Other_Product [ 0 OR 1] : 1\n",
      "Enter Product_Type_Air_Cancellation [ 0 OR 1] : 0\n",
      "Enter Product_Type_Hotel_Cancellation [ 0 OR 1] : 0\n",
      "Enter Product_Type_Air_Loss [ 0 OR 1] : 0\n",
      "Enter Product_Type_Hotel_Loss [ 0 OR 1] : 0\n",
      "-------------------------------------------------------------------------\n"
     ]
    }
   ],
   "source": [
    "itetypeinter= int(input(\"Enter Itinerary_Type_International [ 0 OR 1] : \"))\n",
    "year = int(input(\"Enter Year  : \"))\n",
    "month = int(input(\"Enter Month [1 To 12] : \"))\n",
    "day = int(input(\"Enter Day [1 To 30] : \"))\n",
    "hour = int(input(\"Enter Hour [1 To 23] : \"))\n",
    "minute = int(input(\"Enter Minute [1 To 59] : \"))\n",
    "protypeair = int(input(\"Enter Product_Type_Air[ 0 OR 1] : \"))\n",
    "protypehot = int(input(\"Enter Product_Type_Hotel[ 0 OR 1] : \"))\n",
    "protypeothpro = int(input(\"Enter Product_Type_Other_Product [ 0 OR 1] : \"))\n",
    "protypeaircanc = int(input(\"Enter Product_Type_Air_Cancellation [ 0 OR 1] : \"))\n",
    "protypehotcanc = int(input(\"Enter Product_Type_Hotel_Cancellation [ 0 OR 1] : \"))\n",
    "protypeairloss = int(input(\"Enter Product_Type_Air_Loss [ 0 OR 1] : \"))\n",
    "protypehotloss = int(input(\"Enter Product_Type_Hotel_Loss [ 0 OR 1] : \"))\n",
    "print('-------------------------------------------------------------------------')"
   ]
  },
  {
   "cell_type": "markdown",
   "metadata": {},
   "source": [
    "Prediction"
   ]
  },
  {
   "cell_type": "code",
   "execution_count": 12,
   "metadata": {},
   "outputs": [
    {
     "name": "stdout",
     "output_type": "stream",
     "text": [
      "NetFarePredicted:10756.24\n"
     ]
    }
   ],
   "source": [
    "NetFarePredicted=model.predict([[itetypeinter,year,month,day,hour,minute,protypeair,protypehot,protypeothpro,protypeaircanc,protypehotcanc,protypeairloss,protypehotloss]])\n",
    "NetFarePredicted=NetFarePredicted[0]\n",
    "print(f'NetFarePredicted:{NetFarePredicted:.2f}')"
   ]
  },
  {
   "cell_type": "code",
   "execution_count": null,
   "metadata": {},
   "outputs": [],
   "source": []
  }
 ],
 "metadata": {
  "kernelspec": {
   "display_name": "Python 3",
   "language": "python",
   "name": "python3"
  },
  "language_info": {
   "codemirror_mode": {
    "name": "ipython",
    "version": 3
   },
   "file_extension": ".py",
   "mimetype": "text/x-python",
   "name": "python",
   "nbconvert_exporter": "python",
   "pygments_lexer": "ipython3",
   "version": "3.6.10"
  }
 },
 "nbformat": 4,
 "nbformat_minor": 4
}
